{
 "cells": [
  {
   "cell_type": "code",
   "execution_count": 1,
   "metadata": {},
   "outputs": [],
   "source": [
    "# pip install xgboost"
   ]
  },
  {
   "attachments": {},
   "cell_type": "markdown",
   "metadata": {},
   "source": [
    "https://www.kaggle.com/code/erenkervan/xgboost-classification"
   ]
  },
  {
   "cell_type": "code",
   "execution_count": 1,
   "metadata": {},
   "outputs": [],
   "source": [
    "import matplotlib.pyplot as plt\n",
    "# import seaborn as sns\n",
    "from sklearn.model_selection import GridSearchCV, train_test_split, cross_val_score\n",
    "from sklearn.metrics import classification_report,confusion_matrix, accuracy_score, roc_auc_score,roc_curve\n",
    "from sklearn.preprocessing import StandardScaler, LabelEncoder\n",
    "from xgboost import XGBClassifier\n",
    "import time\n",
    "import numpy as np \n",
    "import pandas as pd\n",
    "import os\n",
    "from sklearn.preprocessing import LabelBinarizer\n",
    "import torch\n",
    "import torch.nn.functional as F\n",
    "import torch.nn as nn\n",
    "\n",
    "\n"
   ]
  },
  {
   "cell_type": "code",
   "execution_count": 2,
   "metadata": {},
   "outputs": [],
   "source": [
    "df1=pd.read_csv('Friday-WorkingHours-Afternoon-DDos.pcap_ISCX.csv')"
   ]
  },
  {
   "cell_type": "code",
   "execution_count": 3,
   "metadata": {},
   "outputs": [],
   "source": [
    "df2=pd.read_csv('Friday-WorkingHours-Afternoon-PortScan.pcap_ISCX.csv')"
   ]
  },
  {
   "cell_type": "code",
   "execution_count": 4,
   "metadata": {},
   "outputs": [],
   "source": [
    "df3=pd.read_csv('Friday-WorkingHours-Morning.pcap_ISCX.csv')"
   ]
  },
  {
   "cell_type": "code",
   "execution_count": 5,
   "metadata": {},
   "outputs": [],
   "source": [
    "df4=pd.read_csv('Monday-WorkingHours.pcap_ISCX.csv')"
   ]
  },
  {
   "cell_type": "code",
   "execution_count": 6,
   "metadata": {},
   "outputs": [],
   "source": [
    "df5=pd.read_csv('Thursday-WorkingHours-Afternoon-Infilteration.pcap_ISCX.csv')"
   ]
  },
  {
   "cell_type": "code",
   "execution_count": 7,
   "metadata": {},
   "outputs": [],
   "source": [
    "df6=pd.read_csv('Thursday-WorkingHours-Morning-WebAttacks.pcap_ISCX.csv')"
   ]
  },
  {
   "cell_type": "code",
   "execution_count": 8,
   "metadata": {},
   "outputs": [],
   "source": [
    "df7=pd.read_csv('Tuesday-WorkingHours.pcap_ISCX.csv')"
   ]
  },
  {
   "cell_type": "code",
   "execution_count": 9,
   "metadata": {},
   "outputs": [],
   "source": [
    "df8=pd.read_csv('Wednesday-workingHours.pcap_ISCX.csv')"
   ]
  },
  {
   "cell_type": "code",
   "execution_count": 10,
   "metadata": {},
   "outputs": [],
   "source": [
    "# og=pd.read_csv('%Y-%m-%d-%H_%M_%S_ISCX.csv')\n",
    "og=pd.read_csv('/home/vijay/Rutgers/course_work/553/project/TCPDUMP_and_CICFlowMeter/csv/dump_ISCX.csv')"
   ]
  },
  {
   "cell_type": "code",
   "execution_count": 11,
   "metadata": {},
   "outputs": [],
   "source": [
    "og.drop(['Flow ID','Src IP','Src Port','Dst IP','Protocol','Timestamp'], inplace=True, axis=1)\n",
    "og.rename(columns = {'Dst Port':' Destination Port', 'Total Bwd packets':'Total Backward Packets','Packet Length Min':' Min Packet Length','Packet Length Max':' Max Packet Length','CWR Flag Count':' CWE Flag Count','Fwd Segment Size Avg':' Avg Fwd Segment Size','Bwd Segment Size Avg':' Avg Bwd Segment Size','Fwd Bytes/Bulk Avg':'Fwd Avg Bytes/Bulk'}, inplace = True)\n",
    "og.rename(columns={'Fwd Packet/Bulk Avg':' Fwd Avg Packets/Bulk','Fwd Bulk Rate Avg':' Fwd Avg Bulk Rate','Bwd Bytes/Bulk Avg':' Bwd Avg Bytes/Bulk','Bwd Packet/Bulk Avg':' Bwd Avg Bytes/Bulk','Bwd Bulk Rate Avg':'Bwd Avg Bulk Rate','FWD Init Win Bytes':'Init_Win_bytes_forward','Bwd Init Win Bytes':' Init_Win_bytes_backward','Fwd Act Data Pkts':' act_data_pkt_fwd'}, inplace=True)\n",
    "og.rename(columns={'Fwd Seg Size Min':' min_seg_size_forward'}, inplace=True)"
   ]
  },
  {
   "cell_type": "code",
   "execution_count": 12,
   "metadata": {},
   "outputs": [
    {
     "data": {
      "text/plain": [
       "(2830743, 78)"
      ]
     },
     "execution_count": 12,
     "metadata": {},
     "output_type": "execute_result"
    }
   ],
   "source": [
    "\n",
    "df = pd.concat([df1,df2])\n",
    "df = pd.concat([df,df3])\n",
    "df = pd.concat([df,df4])\n",
    "df = pd.concat([df,df5])\n",
    "df = pd.concat([df,df6])\n",
    "df = pd.concat([df,df7])\n",
    "df = pd.concat([df,df8])\n",
    "df.drop(' Fwd Header Length', inplace=True, axis=1)\n",
    "df.shape"
   ]
  },
  {
   "cell_type": "code",
   "execution_count": 13,
   "metadata": {},
   "outputs": [],
   "source": [
    "# drop duplicate rows\n",
    "df =  df.drop_duplicates(keep=\"first\")\n",
    "df.reset_index(drop=True,inplace=True)\n",
    "\n",
    "og =  og.drop_duplicates(keep=\"first\")\n",
    "og.reset_index(drop=True,inplace=True)"
   ]
  },
  {
   "cell_type": "code",
   "execution_count": 14,
   "metadata": {},
   "outputs": [],
   "source": [
    "for i in df.columns:\n",
    "    df = df[df[i] != \"Infinity\"]\n",
    "    df = df[df[i] != np.nan]\n",
    "    df = df[df[i] != \",,\"]"
   ]
  },
  {
   "cell_type": "code",
   "execution_count": 15,
   "metadata": {},
   "outputs": [],
   "source": [
    "old_memory_usage = df.memory_usage().sum()"
   ]
  },
  {
   "cell_type": "code",
   "execution_count": 16,
   "metadata": {},
   "outputs": [],
   "source": [
    "og_old_memory_usage = og.memory_usage().sum()"
   ]
  },
  {
   "cell_type": "code",
   "execution_count": 17,
   "metadata": {},
   "outputs": [
    {
     "name": "stdout",
     "output_type": "stream",
     "text": [
      "%0.0 lower memory usage\n"
     ]
    }
   ],
   "source": [
    "new_memory_usage = df.memory_usage().sum()\n",
    "old_vs_new = (old_memory_usage - new_memory_usage) / old_memory_usage * 100\n",
    "print(f\"%{old_vs_new} lower memory usage\")"
   ]
  },
  {
   "cell_type": "code",
   "execution_count": 18,
   "metadata": {},
   "outputs": [
    {
     "name": "stdout",
     "output_type": "stream",
     "text": [
      "%0.0 lower memory usage\n"
     ]
    }
   ],
   "source": [
    "og_new_memory_usage = og.memory_usage().sum()\n",
    "old1_vs_new1 = (og_old_memory_usage - og_new_memory_usage) / og_old_memory_usage * 100\n",
    "print(f\"%{old1_vs_new1} lower memory usage\")"
   ]
  },
  {
   "cell_type": "code",
   "execution_count": 19,
   "metadata": {},
   "outputs": [],
   "source": [
    "df.columns =  df.columns.str.strip()\n",
    "og.columns =  og.columns.str.strip()"
   ]
  },
  {
   "cell_type": "code",
   "execution_count": 20,
   "metadata": {},
   "outputs": [
    {
     "ename": "TypeError",
     "evalue": "NDFrame._add_numeric_operations.<locals>.any() takes 1 positional argument but 2 were given",
     "output_type": "error",
     "traceback": [
      "\u001b[0;31m---------------------------------------------------------------------------\u001b[0m",
      "\u001b[0;31mTypeError\u001b[0m                                 Traceback (most recent call last)",
      "Cell \u001b[0;32mIn[20], line 2\u001b[0m\n\u001b[1;32m      1\u001b[0m \u001b[39m# drop nan and infinite rows\u001b[39;00m\n\u001b[0;32m----> 2\u001b[0m df \u001b[39m=\u001b[39m df[\u001b[39m~\u001b[39mdf\u001b[39m.\u001b[39;49misin([np\u001b[39m.\u001b[39;49mnan, np\u001b[39m.\u001b[39;49minf, \u001b[39m-\u001b[39;49mnp\u001b[39m.\u001b[39;49minf])\u001b[39m.\u001b[39;49many(\u001b[39m1\u001b[39;49m)]\n\u001b[1;32m      3\u001b[0m og \u001b[39m=\u001b[39m og[\u001b[39m~\u001b[39mog\u001b[39m.\u001b[39misin([np\u001b[39m.\u001b[39mnan, np\u001b[39m.\u001b[39minf, \u001b[39m-\u001b[39mnp\u001b[39m.\u001b[39minf])\u001b[39m.\u001b[39many(\u001b[39m1\u001b[39m)]\n",
      "\u001b[0;31mTypeError\u001b[0m: NDFrame._add_numeric_operations.<locals>.any() takes 1 positional argument but 2 were given"
     ]
    }
   ],
   "source": [
    "# drop nan and infinite rows\n",
    "df = df[~df.isin([np.nan, np.inf, -np.inf]).any(1)]\n",
    "og = og[~og.isin([np.nan, np.inf, -np.inf]).any(1)]"
   ]
  },
  {
   "cell_type": "code",
   "execution_count": 22,
   "metadata": {},
   "outputs": [],
   "source": [
    "# merging similar classes with low instances\n",
    "df[\"Label\"] = df[\"Label\"].replace([\"Web Attack � Brute Force\",\"Web Attack � XSS\",\"Web Attack � Sql Injection\"],\"Web Attack\")\n"
   ]
  },
  {
   "cell_type": "code",
   "execution_count": 23,
   "metadata": {},
   "outputs": [],
   "source": [
    "# #feature reduction \n",
    "# #dropping very high correlated features \n",
    "# corr_matrix = df.corr().abs()\n",
    "\n",
    "# # Select upper triangle of correlation matrix\n",
    "# upper = corr_matrix.where(np.triu(np.ones(corr_matrix.shape), k=1).astype(np.bool))\n",
    "\n",
    "# # Find features with correlation greater than 0.95\n",
    "# to_drop = [column for column in upper.columns if any(upper[column] > 0.95)]\n",
    "# print(to_drop)\n",
    "# # Drop features \n",
    "# df =  df.drop(to_drop, axis=1)\n",
    "# og =  og.drop(to_drop, axis=1)\n",
    "# df.shape"
   ]
  },
  {
   "cell_type": "code",
   "execution_count": 24,
   "metadata": {},
   "outputs": [],
   "source": [
    "l= np.array(['BENIGN', 'DDoS', 'PortScan', 'Bot', 'Infiltration', 'Web Attack',\n",
    "       'FTP-Patator', 'SSH-Patator', 'DoS slowloris', 'DoS Slowhttptest',\n",
    "       'DoS Hulk', 'DoS GoldenEye', 'Heartbleed'])\n",
    "r= [0,1,2,3,4,5,6,7,8,9,10,11,12]\n",
    "# y_dense = LabelBinarizer().fit_transform(l)\n"
   ]
  },
  {
   "cell_type": "code",
   "execution_count": 25,
   "metadata": {},
   "outputs": [],
   "source": [
    "# x_train, x_test, y_train, y_test = train_test_split(x,y,test_size=0.3,random_state=42,stratify=y)\n",
    "x_train=df.drop([\"Label\"],axis=1)\n",
    "x_test=og.drop([\"Label\"],axis=1)\n",
    "\n",
    "y_train=df[\"Label\"]\n",
    "y_test =og[\"Label\"]\n",
    "y_train=y_train.replace(l,r)\n",
    "y_test=y_test.replace(l,r)\n"
   ]
  },
  {
   "cell_type": "code",
   "execution_count": 26,
   "metadata": {},
   "outputs": [
    {
     "name": "stderr",
     "output_type": "stream",
     "text": [
      "/Library/Frameworks/Python.framework/Versions/3.10/lib/python3.10/site-packages/sklearn/base.py:493: FutureWarning: The feature names should match those that were passed during fit. Starting version 1.2, an error will be raised.\n",
      "Feature names unseen at fit time:\n",
      "- Fwd Header Length\n",
      "- Total Fwd Packet\n",
      "- Total Length of Bwd Packet\n",
      "- Total Length of Fwd Packet\n",
      "Feature names seen at fit time, yet now missing:\n",
      "- Bwd Avg Packets/Bulk\n",
      "- Fwd Header Length.1\n",
      "- Total Fwd Packets\n",
      "- Total Length of Bwd Packets\n",
      "- Total Length of Fwd Packets\n",
      "\n",
      "  warnings.warn(message, FutureWarning)\n"
     ]
    }
   ],
   "source": [
    "scaler = StandardScaler()\n",
    "x_train = scaler.fit_transform(x_train)\n",
    "x_test = scaler.transform(x_test)"
   ]
  },
  {
   "cell_type": "code",
   "execution_count": 27,
   "metadata": {},
   "outputs": [
    {
     "data": {
      "text/plain": [
       "array([[ 1.80717282e+00, -3.28961620e-01, -1.16836724e-02, ...,\n",
       "         2.44144230e+08,  6.55802889e+07, -1.58303604e-01],\n",
       "       [ 1.80748839e+00, -3.28960059e-01, -1.16836724e-02, ...,\n",
       "         2.44144230e+08,  6.55802889e+07, -1.58301692e-01],\n",
       "       [-4.33791542e-01, -4.70903028e-01, -1.04248923e-02, ...,\n",
       "        -1.16080147e-01,  6.55802889e+07,  6.83442797e+07],\n",
       "       ...,\n",
       "       [-4.54304043e-01, -4.70834257e-01, -1.16836724e-02, ...,\n",
       "        -1.16080147e-01,  6.55802889e+07,  6.83442797e+07],\n",
       "       [-4.54304043e-01, -4.70834172e-01, -1.16836724e-02, ...,\n",
       "        -1.16080147e-01,  6.55802889e+07,  6.83442797e+07],\n",
       "       [ 1.80790916e+00, -4.70912934e-01, -1.16836724e-02, ...,\n",
       "        -1.16080147e-01,  6.55802889e+07,  6.83442797e+07]])"
      ]
     },
     "execution_count": 27,
     "metadata": {},
     "output_type": "execute_result"
    }
   ],
   "source": [
    "x_test"
   ]
  },
  {
   "cell_type": "code",
   "execution_count": 28,
   "metadata": {},
   "outputs": [
    {
     "data": {
      "text/plain": [
       "array([[ 2.42859638, -0.4709143 , -0.01042489, ..., -0.11608015,\n",
       "        -0.38113744, -0.36176379],\n",
       "       [ 2.43853706, -0.47091129, -0.01168367, ..., -0.11608015,\n",
       "        -0.38113744, -0.36176379],\n",
       "       [ 2.43858965, -0.47091291, -0.01168367, ..., -0.11608015,\n",
       "        -0.38113744, -0.36176379],\n",
       "       ...,\n",
       "       [ 2.59506321, -0.47091205, -0.01042489, ..., -0.11608015,\n",
       "        -0.38113744, -0.36176379],\n",
       "       [-0.45430404, -0.44115131, -0.00538977, ..., -0.11608015,\n",
       "        -0.38113744, -0.36176379],\n",
       "       [-0.45430404, -0.46821976, -0.00790733, ..., -0.11608015,\n",
       "        -0.38113744, -0.36176379]])"
      ]
     },
     "execution_count": 28,
     "metadata": {},
     "output_type": "execute_result"
    }
   ],
   "source": [
    "x_train"
   ]
  },
  {
   "cell_type": "code",
   "execution_count": 29,
   "metadata": {},
   "outputs": [],
   "source": [
    "# class MnistModel(nn.Module):\n",
    "#     def __init__(self):\n",
    "#         super().__init__()\n",
    "#         #layers of the model\n",
    "#         self.l1 = nn.Linear(input_size, 512)\n",
    "#         self.l2 = nn.Linear(512, 10)\n",
    "#         self.flat = nn.Flatten()\n",
    " \n",
    "#     def forward(self, x):\n",
    "#         #one forward pass\n",
    "#         out = self.flat(x)\n",
    "#         out = F.relu(self.l1(out))\n",
    "#         out = self.l2(out)\n",
    "#         return out"
   ]
  },
  {
   "cell_type": "code",
   "execution_count": 30,
   "metadata": {},
   "outputs": [],
   "source": [
    "# start = time.time()\n",
    "xgb = XGBClassifier(random_state=42)\n",
    "\n",
    "xgb.fit(x_train,y_train)\n",
    "xgbpreds = xgb.predict(x_test)\n",
    "# print(\"Time\", time.time()-start)\n",
    "# print(\"Accuracy\",accuracy_score(y_test,xgbpreds))\n",
    "# print(classification_report(y_test,xgbpreds))"
   ]
  },
  {
   "cell_type": "code",
   "execution_count": 31,
   "metadata": {},
   "outputs": [
    {
     "name": "stdout",
     "output_type": "stream",
     "text": [
      "[0]\n"
     ]
    }
   ],
   "source": [
    "print(np.unique(xgbpreds))\n",
    "xgbpreds=list(xgbpreds)"
   ]
  },
  {
   "cell_type": "code",
   "execution_count": 32,
   "metadata": {},
   "outputs": [
    {
     "data": {
      "text/html": [
       "<div>\n",
       "<style scoped>\n",
       "    .dataframe tbody tr th:only-of-type {\n",
       "        vertical-align: middle;\n",
       "    }\n",
       "\n",
       "    .dataframe tbody tr th {\n",
       "        vertical-align: top;\n",
       "    }\n",
       "\n",
       "    .dataframe thead th {\n",
       "        text-align: right;\n",
       "    }\n",
       "</style>\n",
       "<table border=\"1\" class=\"dataframe\">\n",
       "  <thead>\n",
       "    <tr style=\"text-align: right;\">\n",
       "      <th></th>\n",
       "      <th>Label_prediction</th>\n",
       "    </tr>\n",
       "  </thead>\n",
       "  <tbody>\n",
       "    <tr>\n",
       "      <th>0</th>\n",
       "      <td>BENIGN</td>\n",
       "    </tr>\n",
       "    <tr>\n",
       "      <th>1</th>\n",
       "      <td>BENIGN</td>\n",
       "    </tr>\n",
       "    <tr>\n",
       "      <th>2</th>\n",
       "      <td>BENIGN</td>\n",
       "    </tr>\n",
       "    <tr>\n",
       "      <th>3</th>\n",
       "      <td>BENIGN</td>\n",
       "    </tr>\n",
       "    <tr>\n",
       "      <th>4</th>\n",
       "      <td>BENIGN</td>\n",
       "    </tr>\n",
       "    <tr>\n",
       "      <th>5</th>\n",
       "      <td>BENIGN</td>\n",
       "    </tr>\n",
       "    <tr>\n",
       "      <th>6</th>\n",
       "      <td>BENIGN</td>\n",
       "    </tr>\n",
       "    <tr>\n",
       "      <th>7</th>\n",
       "      <td>BENIGN</td>\n",
       "    </tr>\n",
       "    <tr>\n",
       "      <th>8</th>\n",
       "      <td>BENIGN</td>\n",
       "    </tr>\n",
       "    <tr>\n",
       "      <th>9</th>\n",
       "      <td>BENIGN</td>\n",
       "    </tr>\n",
       "    <tr>\n",
       "      <th>10</th>\n",
       "      <td>BENIGN</td>\n",
       "    </tr>\n",
       "    <tr>\n",
       "      <th>11</th>\n",
       "      <td>BENIGN</td>\n",
       "    </tr>\n",
       "    <tr>\n",
       "      <th>12</th>\n",
       "      <td>BENIGN</td>\n",
       "    </tr>\n",
       "    <tr>\n",
       "      <th>13</th>\n",
       "      <td>BENIGN</td>\n",
       "    </tr>\n",
       "    <tr>\n",
       "      <th>14</th>\n",
       "      <td>BENIGN</td>\n",
       "    </tr>\n",
       "    <tr>\n",
       "      <th>15</th>\n",
       "      <td>BENIGN</td>\n",
       "    </tr>\n",
       "    <tr>\n",
       "      <th>16</th>\n",
       "      <td>BENIGN</td>\n",
       "    </tr>\n",
       "    <tr>\n",
       "      <th>17</th>\n",
       "      <td>BENIGN</td>\n",
       "    </tr>\n",
       "    <tr>\n",
       "      <th>18</th>\n",
       "      <td>BENIGN</td>\n",
       "    </tr>\n",
       "    <tr>\n",
       "      <th>19</th>\n",
       "      <td>BENIGN</td>\n",
       "    </tr>\n",
       "    <tr>\n",
       "      <th>20</th>\n",
       "      <td>BENIGN</td>\n",
       "    </tr>\n",
       "    <tr>\n",
       "      <th>21</th>\n",
       "      <td>BENIGN</td>\n",
       "    </tr>\n",
       "    <tr>\n",
       "      <th>22</th>\n",
       "      <td>BENIGN</td>\n",
       "    </tr>\n",
       "    <tr>\n",
       "      <th>23</th>\n",
       "      <td>BENIGN</td>\n",
       "    </tr>\n",
       "    <tr>\n",
       "      <th>24</th>\n",
       "      <td>BENIGN</td>\n",
       "    </tr>\n",
       "    <tr>\n",
       "      <th>25</th>\n",
       "      <td>BENIGN</td>\n",
       "    </tr>\n",
       "    <tr>\n",
       "      <th>26</th>\n",
       "      <td>BENIGN</td>\n",
       "    </tr>\n",
       "    <tr>\n",
       "      <th>27</th>\n",
       "      <td>BENIGN</td>\n",
       "    </tr>\n",
       "    <tr>\n",
       "      <th>28</th>\n",
       "      <td>BENIGN</td>\n",
       "    </tr>\n",
       "    <tr>\n",
       "      <th>29</th>\n",
       "      <td>BENIGN</td>\n",
       "    </tr>\n",
       "    <tr>\n",
       "      <th>30</th>\n",
       "      <td>BENIGN</td>\n",
       "    </tr>\n",
       "    <tr>\n",
       "      <th>31</th>\n",
       "      <td>BENIGN</td>\n",
       "    </tr>\n",
       "    <tr>\n",
       "      <th>32</th>\n",
       "      <td>BENIGN</td>\n",
       "    </tr>\n",
       "    <tr>\n",
       "      <th>33</th>\n",
       "      <td>BENIGN</td>\n",
       "    </tr>\n",
       "    <tr>\n",
       "      <th>34</th>\n",
       "      <td>BENIGN</td>\n",
       "    </tr>\n",
       "    <tr>\n",
       "      <th>35</th>\n",
       "      <td>BENIGN</td>\n",
       "    </tr>\n",
       "    <tr>\n",
       "      <th>36</th>\n",
       "      <td>BENIGN</td>\n",
       "    </tr>\n",
       "    <tr>\n",
       "      <th>37</th>\n",
       "      <td>BENIGN</td>\n",
       "    </tr>\n",
       "    <tr>\n",
       "      <th>38</th>\n",
       "      <td>BENIGN</td>\n",
       "    </tr>\n",
       "    <tr>\n",
       "      <th>39</th>\n",
       "      <td>BENIGN</td>\n",
       "    </tr>\n",
       "    <tr>\n",
       "      <th>40</th>\n",
       "      <td>BENIGN</td>\n",
       "    </tr>\n",
       "    <tr>\n",
       "      <th>41</th>\n",
       "      <td>BENIGN</td>\n",
       "    </tr>\n",
       "    <tr>\n",
       "      <th>42</th>\n",
       "      <td>BENIGN</td>\n",
       "    </tr>\n",
       "    <tr>\n",
       "      <th>43</th>\n",
       "      <td>BENIGN</td>\n",
       "    </tr>\n",
       "  </tbody>\n",
       "</table>\n",
       "</div>"
      ],
      "text/plain": [
       "   Label_prediction\n",
       "0            BENIGN\n",
       "1            BENIGN\n",
       "2            BENIGN\n",
       "3            BENIGN\n",
       "4            BENIGN\n",
       "5            BENIGN\n",
       "6            BENIGN\n",
       "7            BENIGN\n",
       "8            BENIGN\n",
       "9            BENIGN\n",
       "10           BENIGN\n",
       "11           BENIGN\n",
       "12           BENIGN\n",
       "13           BENIGN\n",
       "14           BENIGN\n",
       "15           BENIGN\n",
       "16           BENIGN\n",
       "17           BENIGN\n",
       "18           BENIGN\n",
       "19           BENIGN\n",
       "20           BENIGN\n",
       "21           BENIGN\n",
       "22           BENIGN\n",
       "23           BENIGN\n",
       "24           BENIGN\n",
       "25           BENIGN\n",
       "26           BENIGN\n",
       "27           BENIGN\n",
       "28           BENIGN\n",
       "29           BENIGN\n",
       "30           BENIGN\n",
       "31           BENIGN\n",
       "32           BENIGN\n",
       "33           BENIGN\n",
       "34           BENIGN\n",
       "35           BENIGN\n",
       "36           BENIGN\n",
       "37           BENIGN\n",
       "38           BENIGN\n",
       "39           BENIGN\n",
       "40           BENIGN\n",
       "41           BENIGN\n",
       "42           BENIGN\n",
       "43           BENIGN"
      ]
     },
     "execution_count": 32,
     "metadata": {},
     "output_type": "execute_result"
    }
   ],
   "source": [
    "temp=pd.DataFrame(xgbpreds,columns=['Label_prediction'])\n",
    "temp=temp.replace(r,l)\n",
    "temp"
   ]
  },
  {
   "cell_type": "code",
   "execution_count": 33,
   "metadata": {},
   "outputs": [],
   "source": [
    "temp.to_csv('label_pred.csv')"
   ]
  },
  {
   "cell_type": "code",
   "execution_count": 34,
   "metadata": {},
   "outputs": [],
   "source": [
    "# save in JSON format\n",
    "xgb.save_model(\"dis_model.json\")\n",
    "# save in text format\n",
    "xgb.save_model(\"dis_model.txt\")"
   ]
  }
 ],
 "metadata": {
  "kernelspec": {
   "display_name": "Python 3",
   "language": "python",
   "name": "python3"
  },
  "language_info": {
   "codemirror_mode": {
    "name": "ipython",
    "version": 3
   },
   "file_extension": ".py",
   "mimetype": "text/x-python",
   "name": "python",
   "nbconvert_exporter": "python",
   "pygments_lexer": "ipython3",
   "version": "3.10.9"
  },
  "orig_nbformat": 4
 },
 "nbformat": 4,
 "nbformat_minor": 2
}
